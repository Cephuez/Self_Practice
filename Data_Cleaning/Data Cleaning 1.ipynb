{
 "cells": [
  {
   "cell_type": "code",
   "execution_count": 1,
   "id": "9ab45a79-4904-411f-aef3-fa86f3e16bbd",
   "metadata": {},
   "outputs": [],
   "source": [
    "from pyspark.sql import SparkSession\n",
    "import pyspark.sql.functions as P"
   ]
  },
  {
   "cell_type": "code",
   "execution_count": 3,
   "id": "cc2c5af5-6e5d-4382-9a26-a0a0c3b4956c",
   "metadata": {},
   "outputs": [],
   "source": [
    "spark = SparkSession.builder.getOrCreate()\n",
    "spark.sparkContext.setLogLevel(\"WARN\")"
   ]
  },
  {
   "cell_type": "code",
   "execution_count": 4,
   "id": "0ee46278-5dc5-400e-9a35-0667cd75e34f",
   "metadata": {},
   "outputs": [],
   "source": [
    "df = spark.read.csv(\n",
    "    \"clean_file_1.csv\",\n",
    "    sep = \",\",\n",
    "    header = True,\n",
    "    inferSchema = True,\n",
    "    timestampFormat = 'yyyy-MM-dd'\n",
    ")"
   ]
  },
  {
   "cell_type": "code",
   "execution_count": 5,
   "id": "a3fb752d-f982-4df2-8f85-93afdae819d5",
   "metadata": {},
   "outputs": [
    {
     "name": "stdout",
     "output_type": "stream",
     "text": [
      "+-----------+-------+----+-----------+------------------+---------------+-------+\n",
      "|customer_id|   name| age|signup_date|             email|purchase_amount|country|\n",
      "+-----------+-------+----+-----------+------------------+---------------+-------+\n",
      "|          1|  Diana|NULL| 2021-05-15| user1@example.com|           NULL|     IN|\n",
      "|          2|    Eve|  25| 2021-01-21| user2@example.com|           20.0|     IN|\n",
      "|          3|Charlie|  40| 2021-11-25| user3@example.com|           20.0|   NULL|\n",
      "|          4|    Eve|  30| 2021-06-16|              NULL|           NULL|     US|\n",
      "|          5|    Eve|NULL| 2021-10-01| user5@example.com|           50.0|   NULL|\n",
      "|          6|    Bob|  40| 2021-03-30| user6@example.com|           20.0|   NULL|\n",
      "|          7|Charlie|  25| 2021-11-12| user7@example.com|           20.0|     US|\n",
      "|          8|Charlie|  25| 2021-01-14|              NULL|           NULL|     US|\n",
      "|          9|Charlie|  35| 2021-08-30| user9@example.com|           20.0|     US|\n",
      "|         10|    Eve|  35| 2021-09-22|user10@example.com|           20.0|     US|\n",
      "|         11|  Diana|  30| 2021-12-12|user11@example.com|           NULL|     IN|\n",
      "|         12|Charlie|  40| 2021-02-22|              NULL|           NULL|     DE|\n",
      "|         13|  Frank|  40| 2021-12-06|user13@example.com|           10.5|     DE|\n",
      "|         14|    Eve|  35| 2021-04-02|user14@example.com|           50.0|     US|\n",
      "|         15|    Bob|  40| 2021-09-21|user15@example.com|           50.0|     DE|\n",
      "|         16|  Diana|  40| 2021-02-04|              NULL|           20.0|     DE|\n",
      "|         17|  Frank|  25| 2021-07-25|user17@example.com|           50.0|     US|\n",
      "|         18|  Frank|  35| 2021-03-22|user18@example.com|           20.0|     DE|\n",
      "|         19|    Bob|NULL| 2021-02-19|user19@example.com|           10.5|   NULL|\n",
      "|         20|  Diana|  35| 2021-12-26|              NULL|           NULL|     UK|\n",
      "+-----------+-------+----+-----------+------------------+---------------+-------+\n",
      "\n"
     ]
    }
   ],
   "source": [
    "df.show()"
   ]
  },
  {
   "cell_type": "code",
   "execution_count": null,
   "id": "36facb5a-ad27-4511-bc0a-b2a49d4aa3d9",
   "metadata": {},
   "outputs": [],
   "source": [
    "# "
   ]
  }
 ],
 "metadata": {
  "kernelspec": {
   "display_name": "Python 3 (ipykernel)",
   "language": "python",
   "name": "python3"
  },
  "language_info": {
   "codemirror_mode": {
    "name": "ipython",
    "version": 3
   },
   "file_extension": ".py",
   "mimetype": "text/x-python",
   "name": "python",
   "nbconvert_exporter": "python",
   "pygments_lexer": "ipython3",
   "version": "3.10.17"
  }
 },
 "nbformat": 4,
 "nbformat_minor": 5
}
