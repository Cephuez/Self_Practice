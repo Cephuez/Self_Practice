{
 "cells": [
  {
   "cell_type": "code",
   "execution_count": 18,
   "id": "9ab45a79-4904-411f-aef3-fa86f3e16bbd",
   "metadata": {},
   "outputs": [],
   "source": [
    "from pyspark.sql import SparkSession\n",
    "import pyspark.sql.functions as F\n",
    "from pyspark.sql.types import IntegerType"
   ]
  },
  {
   "cell_type": "code",
   "execution_count": 7,
   "id": "cc2c5af5-6e5d-4382-9a26-a0a0c3b4956c",
   "metadata": {},
   "outputs": [],
   "source": [
    "spark = SparkSession.builder.getOrCreate()\n",
    "spark.sparkContext.setLogLevel(\"WARN\")"
   ]
  },
  {
   "cell_type": "code",
   "execution_count": 8,
   "id": "0ee46278-5dc5-400e-9a35-0667cd75e34f",
   "metadata": {},
   "outputs": [],
   "source": [
    "df = spark.read.csv(\n",
    "    \"clean_file_1.csv\",\n",
    "    sep = \",\",\n",
    "    header = True,\n",
    "    inferSchema = True,\n",
    "    timestampFormat = 'yyyy-MM-dd'\n",
    ")"
   ]
  },
  {
   "cell_type": "code",
   "execution_count": 21,
   "id": "a3fb752d-f982-4df2-8f85-93afdae819d5",
   "metadata": {},
   "outputs": [
    {
     "name": "stdout",
     "output_type": "stream",
     "text": [
      "+-----------+-------+-------+-------------+------------------+---------------+-------------+\n",
      "|Customer_ID|   Name|    Age|  Signup_Date|             Email|Purchase_Amount|      Country|\n",
      "+-----------+-------+-------+-------------+------------------+---------------+-------------+\n",
      "|          1|  alice|     25|   2021/01/01| alice@example.com|          10.50|           US|\n",
      "|          2|    Bob| Thirty|   01-15-2021|   bob@example.com|             20|           us|\n",
      "|          2|    bob|     30|   01-15-2021|              NULL|         twenty|          USA|\n",
      "|          3|CHARLIE|     35|March 3, 2021|  charlie@mail.com|           NULL|United States|\n",
      "|          4|  Diana|     40|         NULL|    diana@mail.com|           35.0|         NULL|\n",
      "|          5|   NULL|   NULL|   2021-04-01|          eve@mail|             50|           UK|\n",
      "|       NULL|    Eve|     29|     04/15/21|          eve@mail|          fifty|           uk|\n",
      "|          7|  Frank|     25|   2021-05-01| frank@example.com|             60|         U.K.|\n",
      "|          8|   NULL|     45|         NULL| frank@example.com|           NULL|           DE|\n",
      "|          9| George|     NA|   2021-06-01|   george@mail.com|           75.5|      Germany|\n",
      "|         10|  Heidi|     33|   2021-06-15|              NULL|           80.0|         NULL|\n",
      "|         11|   Ivan|     31|   15-07-2021|     ivan@mail.com|           85.0|           IN|\n",
      "|         12|   Judy|     38|   2021-08-01|  judy@example.com|          90.00|        India|\n",
      "|       NULL|Mallory|     37|   2021-08-01|          mallory@|           95.0|        india|\n",
      "|         14|   Niaj|   NULL|   08-20-2021|  niaj@example.com|           NULL|           IN|\n",
      "|         15| Olivia|unknown|   2021-09-01|        olivia.com|          100.5|           ca|\n",
      "|         16|  Peggy|     50|   2021-10-01|              NULL|            105|       Canada|\n",
      "|         17| Rupert|     22|   2021/11/01|rupert@example.com|            110|           CA|\n",
      "|         18|   NULL|     28|   2021-11-01| trent@example.com|          115.0|           MX|\n",
      "|         19|  Trent|     41|   2021-12-01| trent@example.com|            120|       Mexico|\n",
      "+-----------+-------+-------+-------------+------------------+---------------+-------------+\n",
      "\n"
     ]
    }
   ],
   "source": [
    "df.show()"
   ]
  },
  {
   "cell_type": "code",
   "execution_count": 20,
   "id": "36facb5a-ad27-4511-bc0a-b2a49d4aa3d9",
   "metadata": {},
   "outputs": [
    {
     "name": "stdout",
     "output_type": "stream",
     "text": [
      "root\n",
      " |-- Customer_ID: integer (nullable = true)\n",
      " |-- Name: string (nullable = true)\n",
      " |-- Age: string (nullable = true)\n",
      " |-- Signup_Date: string (nullable = true)\n",
      " |-- Email: string (nullable = true)\n",
      " |-- Purchase_Amount: string (nullable = true)\n",
      " |-- Country: string (nullable = true)\n",
      "\n"
     ]
    }
   ],
   "source": [
    "# Show Current Schema\n",
    "df.printSchema()"
   ]
  },
  {
   "cell_type": "code",
   "execution_count": 19,
   "id": "d0188482-efab-4c03-b372-7d78a1b023c6",
   "metadata": {},
   "outputs": [],
   "source": [
    "# 1.1 Checking Customer ID\n",
    "# Change it's type to int\n",
    "df = df.withColumn(\"Customer_ID\", F.col(\"Customer_ID\").cast(IntegerType()))"
   ]
  },
  {
   "cell_type": "code",
   "execution_count": 24,
   "id": "7aadc0f5-1ad6-492e-ace7-ddd180fa7462",
   "metadata": {},
   "outputs": [],
   "source": [
    "# 1.2 Check repeated Primary Numbers\n",
    "# Get the rows where there is a repeated primary number\n",
    "df_duplicate = df.groupBy(\"Customer_ID\").agg(F.count(\"*\").alias(\"count\")).where(F.col(\"count\") > 1)"
   ]
  },
  {
   "cell_type": "code",
   "execution_count": 28,
   "id": "8fbd0ece-e377-4a36-8127-4bbe0922ee99",
   "metadata": {},
   "outputs": [
    {
     "name": "stdout",
     "output_type": "stream",
     "text": [
      "+-----------+----+------+-----------+---------------+---------------+-------+-----+\n",
      "|Customer_ID|Name|   Age|Signup_Date|          Email|Purchase_Amount|Country|count|\n",
      "+-----------+----+------+-----------+---------------+---------------+-------+-----+\n",
      "|          2| Bob|Thirty| 01-15-2021|bob@example.com|             20|     us|    2|\n",
      "|          2| bob|    30| 01-15-2021|           NULL|         twenty|    USA|    2|\n",
      "+-----------+----+------+-----------+---------------+---------------+-------+-----+\n",
      "\n"
     ]
    }
   ],
   "source": [
    "# Check these rows\n",
    "df_duplicate_row = df.join(df_duplicate, on=\"Customer_ID\", how=\"inner\")\n",
    "df_duplicate_row.show()\n",
    "\n",
    "# "
   ]
  },
  {
   "cell_type": "code",
   "execution_count": 26,
   "id": "f7baf7bc-6942-407b-bf4d-bbef3032b0da",
   "metadata": {},
   "outputs": [
    {
     "name": "stdout",
     "output_type": "stream",
     "text": [
      "+-----------+-----+\n",
      "|Customer_ID|count|\n",
      "+-----------+-----+\n",
      "|       NULL|    2|\n",
      "|          2|    2|\n",
      "+-----------+-----+\n",
      "\n"
     ]
    }
   ],
   "source": [
    "df_duplicate.show()"
   ]
  },
  {
   "cell_type": "code",
   "execution_count": null,
   "id": "0c25c396-7769-41fd-b325-de8e0c0d255a",
   "metadata": {},
   "outputs": [],
   "source": []
  },
  {
   "cell_type": "code",
   "execution_count": null,
   "id": "6eb879e5-cfdd-496d-a4ad-9db14fb42eb1",
   "metadata": {},
   "outputs": [],
   "source": []
  },
  {
   "cell_type": "code",
   "execution_count": null,
   "id": "e56abcb9-8883-4790-9453-5160c6953b9a",
   "metadata": {},
   "outputs": [],
   "source": []
  },
  {
   "cell_type": "code",
   "execution_count": null,
   "id": "1ce0466e-c85f-4f9c-9f34-ee26cc14784e",
   "metadata": {},
   "outputs": [],
   "source": []
  },
  {
   "cell_type": "code",
   "execution_count": null,
   "id": "23c390a8-ac24-4fb2-91b8-f2ee32ee450b",
   "metadata": {},
   "outputs": [],
   "source": []
  }
 ],
 "metadata": {
  "kernelspec": {
   "display_name": "Python 3 (ipykernel)",
   "language": "python",
   "name": "python3"
  },
  "language_info": {
   "codemirror_mode": {
    "name": "ipython",
    "version": 3
   },
   "file_extension": ".py",
   "mimetype": "text/x-python",
   "name": "python",
   "nbconvert_exporter": "python",
   "pygments_lexer": "ipython3",
   "version": "3.10.17"
  }
 },
 "nbformat": 4,
 "nbformat_minor": 5
}
