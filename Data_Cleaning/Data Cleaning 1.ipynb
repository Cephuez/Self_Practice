{
 "cells": [
  {
   "cell_type": "code",
   "execution_count": 6,
   "id": "9ab45a79-4904-411f-aef3-fa86f3e16bbd",
   "metadata": {},
   "outputs": [],
   "source": [
    "from pyspark.sql import SparkSession\n",
    "import pyspark.sql.functions as P"
   ]
  },
  {
   "cell_type": "code",
   "execution_count": 7,
   "id": "cc2c5af5-6e5d-4382-9a26-a0a0c3b4956c",
   "metadata": {},
   "outputs": [],
   "source": [
    "spark = SparkSession.builder.getOrCreate()\n",
    "spark.sparkContext.setLogLevel(\"WARN\")"
   ]
  },
  {
   "cell_type": "code",
   "execution_count": 8,
   "id": "0ee46278-5dc5-400e-9a35-0667cd75e34f",
   "metadata": {},
   "outputs": [],
   "source": [
    "df = spark.read.csv(\n",
    "    \"clean_file_1.csv\",\n",
    "    sep = \",\",\n",
    "    header = True,\n",
    "    inferSchema = True,\n",
    "    timestampFormat = 'yyyy-MM-dd'\n",
    ")"
   ]
  },
  {
   "cell_type": "code",
   "execution_count": 9,
   "id": "a3fb752d-f982-4df2-8f85-93afdae819d5",
   "metadata": {},
   "outputs": [
    {
     "name": "stdout",
     "output_type": "stream",
     "text": [
      "+-----------+-------+-------+-------------+------------------+---------------+-------------+\n",
      "|Customer_ID|   Name|    Age|  Signup_Date|             Email|Purchase_Amount|      Country|\n",
      "+-----------+-------+-------+-------------+------------------+---------------+-------------+\n",
      "|        1.0|  alice|     25|   2021/01/01| alice@example.com|          10.50|           US|\n",
      "|        2.0|    Bob| Thirty|   01-15-2021|   bob@example.com|             20|           us|\n",
      "|        2.0|    bob|     30|   01-15-2021|              NULL|         twenty|          USA|\n",
      "|        3.0|CHARLIE|     35|March 3, 2021|  charlie@mail.com|           NULL|United States|\n",
      "|        4.0|  Diana|     40|         NULL|    diana@mail.com|           35.0|         NULL|\n",
      "|        5.0|   NULL|   NULL|   2021-04-01|          eve@mail|             50|           UK|\n",
      "|       NULL|    Eve|     29|     04/15/21|          eve@mail|          fifty|           uk|\n",
      "|        7.0|  Frank|     25|   2021-05-01| frank@example.com|             60|         U.K.|\n",
      "|        8.0|   NULL|     45|         NULL| frank@example.com|           NULL|           DE|\n",
      "|        9.0| George|     NA|   2021-06-01|   george@mail.com|           75.5|      Germany|\n",
      "|       10.0|  Heidi|     33|   2021-06-15|              NULL|           80.0|         NULL|\n",
      "|       11.0|   Ivan|     31|   15-07-2021|     ivan@mail.com|           85.0|           IN|\n",
      "|       12.0|   Judy|     38|   2021-08-01|  judy@example.com|          90.00|        India|\n",
      "|       NULL|Mallory|     37|   2021-08-01|          mallory@|           95.0|        india|\n",
      "|       14.0|   Niaj|   NULL|   08-20-2021|  niaj@example.com|           NULL|           IN|\n",
      "|       15.0| Olivia|unknown|   2021-09-01|        olivia.com|          100.5|           ca|\n",
      "|       16.0|  Peggy|     50|   2021-10-01|              NULL|            105|       Canada|\n",
      "|       17.0| Rupert|     22|   2021/11/01|rupert@example.com|            110|           CA|\n",
      "|       18.0|   NULL|     28|   2021-11-01| trent@example.com|          115.0|           MX|\n",
      "|       19.0|  Trent|     41|   2021-12-01| trent@example.com|            120|       Mexico|\n",
      "+-----------+-------+-------+-------------+------------------+---------------+-------------+\n",
      "\n"
     ]
    }
   ],
   "source": [
    "df.show()"
   ]
  },
  {
   "cell_type": "code",
   "execution_count": null,
   "id": "36facb5a-ad27-4511-bc0a-b2a49d4aa3d9",
   "metadata": {},
   "outputs": [],
   "source": [
    "# 1 Checking Customer ID\n",
    "# "
   ]
  }
 ],
 "metadata": {
  "kernelspec": {
   "display_name": "Python 3 (ipykernel)",
   "language": "python",
   "name": "python3"
  },
  "language_info": {
   "codemirror_mode": {
    "name": "ipython",
    "version": 3
   },
   "file_extension": ".py",
   "mimetype": "text/x-python",
   "name": "python",
   "nbconvert_exporter": "python",
   "pygments_lexer": "ipython3",
   "version": "3.10.17"
  }
 },
 "nbformat": 4,
 "nbformat_minor": 5
}
