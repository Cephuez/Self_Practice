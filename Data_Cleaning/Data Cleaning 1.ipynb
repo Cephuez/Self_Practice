{
 "cells": [
  {
   "cell_type": "code",
   "execution_count": 1,
   "id": "9ab45a79-4904-411f-aef3-fa86f3e16bbd",
   "metadata": {},
   "outputs": [],
   "source": [
    "from pyspark.sql import SparkSession\n",
    "import pyspark.sql.functions as P"
   ]
  },
  {
   "cell_type": "code",
   "execution_count": 3,
   "id": "cc2c5af5-6e5d-4382-9a26-a0a0c3b4956c",
   "metadata": {},
   "outputs": [],
   "source": [
    "spark = SparkSession.builder.getOrCreate()\n",
    "spark.sparkContext.setLogLevel(\"WARN\")"
   ]
  },
  {
   "cell_type": "code",
   "execution_count": null,
   "id": "0ee46278-5dc5-400e-9a35-0667cd75e34f",
   "metadata": {},
   "outputs": [],
   "source": []
  }
 ],
 "metadata": {
  "kernelspec": {
   "display_name": "Python 3 (ipykernel)",
   "language": "python",
   "name": "python3"
  },
  "language_info": {
   "codemirror_mode": {
    "name": "ipython",
    "version": 3
   },
   "file_extension": ".py",
   "mimetype": "text/x-python",
   "name": "python",
   "nbconvert_exporter": "python",
   "pygments_lexer": "ipython3",
   "version": "3.10.17"
  }
 },
 "nbformat": 4,
 "nbformat_minor": 5
}
