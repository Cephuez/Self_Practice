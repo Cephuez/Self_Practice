{
 "cells": [
  {
   "cell_type": "code",
   "execution_count": 24,
   "id": "81d28cfb-4fa4-444a-9727-a906b49a05c8",
   "metadata": {},
   "outputs": [],
   "source": [
    "from pyspark.sql import SparkSession\n",
    "import pyspark.sql.functions as PF"
   ]
  },
  {
   "cell_type": "code",
   "execution_count": 17,
   "id": "454bc054-0e14-4f05-9069-acb4989a6e2f",
   "metadata": {},
   "outputs": [],
   "source": [
    "spark = SparkSession.builder.appName(\"Read Text\").getOrCreate()\n",
    "spark.sparkContext.setLogLevel(\"WARN\")"
   ]
  },
  {
   "cell_type": "code",
   "execution_count": 18,
   "id": "b36f39f4-7bf0-4ced-8eb6-7db262ecc847",
   "metadata": {},
   "outputs": [],
   "source": [
    "book = spark.read.text(\"/home/cephuez/pyspark_practice/book_study/*.txt\")"
   ]
  },
  {
   "cell_type": "code",
   "execution_count": 25,
   "id": "91b3e5a8-28fe-45b1-9da2-4416c38ace23",
   "metadata": {},
   "outputs": [
    {
     "name": "stdout",
     "output_type": "stream",
     "text": [
      "+--------------------+\n",
      "|               value|\n",
      "+--------------------+\n",
      "|                    |\n",
      "|The Project Guten...|\n",
      "|            Melville|\n",
      "|                    |\n",
      "|This eBook is for...|\n",
      "|no restrictions w...|\n",
      "|under the terms o...|\n",
      "|eBook or online a...|\n",
      "|                    |\n",
      "|                    |\n",
      "|Title: Moby Dick;...|\n",
      "|                    |\n",
      "|Author: Herman Me...|\n",
      "|                    |\n",
      "|Release Date: Dec...|\n",
      "|                2017|\n",
      "|                    |\n",
      "|   Language: English|\n",
      "|                    |\n",
      "|Character set enc...|\n",
      "+--------------------+\n",
      "only showing top 20 rows\n",
      "\n"
     ]
    }
   ],
   "source": [
    "book.show()"
   ]
  },
  {
   "cell_type": "code",
   "execution_count": 33,
   "id": "639245ae-860e-4ee4-bb63-262068ec5c0c",
   "metadata": {},
   "outputs": [
    {
     "name": "stdout",
     "output_type": "stream",
     "text": [
      "+---------+\n",
      "|     word|\n",
      "+---------+\n",
      "|         |\n",
      "|      the|\n",
      "|  project|\n",
      "|gutenberg|\n",
      "|    ebook|\n",
      "|       of|\n",
      "|     moby|\n",
      "|     dick|\n",
      "|       or|\n",
      "|      the|\n",
      "|    whale|\n",
      "|       by|\n",
      "|   herman|\n",
      "| melville|\n",
      "|         |\n",
      "|     this|\n",
      "|    ebook|\n",
      "|       is|\n",
      "|      for|\n",
      "|      the|\n",
      "+---------+\n",
      "only showing top 20 rows\n",
      "\n"
     ]
    }
   ],
   "source": [
    "result = book.select(PF.split(PF.col(\"value\"), \" \").alias(\"split_words\")) \\\n",
    "    .select(PF.explode(PF.col(\"split_words\")).alias(\"word\")) \\\n",
    "    .select(PF.lower(PF.col(\"word\")).alias(\"lower_word\")) \\\n",
    "    .select(PF.regexp_extract(PF.col(\"lower_word\"), \"[a-z]+\", 0).alias(\"word\"))\n",
    "result.show()"
   ]
  },
  {
   "cell_type": "code",
   "execution_count": 21,
   "id": "698aa1e6-0f05-44f2-a485-75cd15bd7088",
   "metadata": {},
   "outputs": [],
   "source": [
    "# Will now devide the book into columns with words used the most"
   ]
  },
  {
   "cell_type": "code",
   "execution_count": null,
   "id": "e2af558a-729a-480e-b18c-ebecdffe55dc",
   "metadata": {},
   "outputs": [],
   "source": []
  }
 ],
 "metadata": {
  "kernelspec": {
   "display_name": "Python 3 (ipykernel)",
   "language": "python",
   "name": "python3"
  },
  "language_info": {
   "codemirror_mode": {
    "name": "ipython",
    "version": 3
   },
   "file_extension": ".py",
   "mimetype": "text/x-python",
   "name": "python",
   "nbconvert_exporter": "python",
   "pygments_lexer": "ipython3",
   "version": "3.10.17"
  }
 },
 "nbformat": 4,
 "nbformat_minor": 5
}
