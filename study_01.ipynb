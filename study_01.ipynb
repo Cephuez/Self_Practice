{
 "cells": [
  {
   "cell_type": "code",
   "execution_count": 1,
   "id": "81d28cfb-4fa4-444a-9727-a906b49a05c8",
   "metadata": {},
   "outputs": [
    {
     "name": "stdout",
     "output_type": "stream",
     "text": [
      "hello\n"
     ]
    }
   ],
   "source": [
    "print(\"hello\")"
   ]
  },
  {
   "cell_type": "code",
   "execution_count": 2,
   "id": "29e6301f-48a3-4302-b717-c1ded32b7aca",
   "metadata": {},
   "outputs": [
    {
     "name": "stdout",
     "output_type": "stream",
     "text": [
      "Another change\n"
     ]
    }
   ],
   "source": [
    "print(\"Another change\")"
   ]
  },
  {
   "cell_type": "code",
   "execution_count": 3,
   "id": "6716bb2f-6d44-431f-be5b-08b37f8d2ee0",
   "metadata": {},
   "outputs": [
    {
     "name": "stdout",
     "output_type": "stream",
     "text": [
      "Test Again\n"
     ]
    }
   ],
   "source": [
    "print(\"Test Again\")"
   ]
  },
  {
   "cell_type": "code",
   "execution_count": 4,
   "id": "c2c3f350-807b-4592-8db1-f85b842a5d76",
   "metadata": {},
   "outputs": [
    {
     "name": "stdout",
     "output_type": "stream",
     "text": [
      "Last Test\n"
     ]
    }
   ],
   "source": [
    "print(\"Last Test\")"
   ]
  },
  {
   "cell_type": "code",
   "execution_count": 5,
   "id": "637b2c4c-47ac-4d7e-b400-139a96169f39",
   "metadata": {},
   "outputs": [
    {
     "name": "stdout",
     "output_type": "stream",
     "text": [
      "Other\n"
     ]
    }
   ],
   "source": [
    "print(\"Other\")"
   ]
  },
  {
   "cell_type": "code",
   "execution_count": 7,
   "id": "3e1e1f54-e812-422f-9dbe-c7be524a1735",
   "metadata": {},
   "outputs": [
    {
     "name": "stdout",
     "output_type": "stream",
     "text": [
      "z\n"
     ]
    }
   ],
   "source": [
    "print(\"z\")"
   ]
  },
  {
   "cell_type": "code",
   "execution_count": null,
   "id": "e9387378-8a5f-4755-947f-bce7451da5fd",
   "metadata": {},
   "outputs": [],
   "source": []
  }
 ],
 "metadata": {
  "kernelspec": {
   "display_name": "Python 3 (ipykernel)",
   "language": "python",
   "name": "python3"
  },
  "language_info": {
   "codemirror_mode": {
    "name": "ipython",
    "version": 3
   },
   "file_extension": ".py",
   "mimetype": "text/x-python",
   "name": "python",
   "nbconvert_exporter": "python",
   "pygments_lexer": "ipython3",
   "version": "3.10.17"
  }
 },
 "nbformat": 4,
 "nbformat_minor": 5
}
