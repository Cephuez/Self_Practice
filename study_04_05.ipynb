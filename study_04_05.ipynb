{
 "cells": [
  {
   "cell_type": "code",
   "execution_count": 4,
   "id": "a8155802-6738-4383-bfa4-52eae62c05a3",
   "metadata": {},
   "outputs": [],
   "source": [
    "from pyspark.sql import SparkSession\n",
    "import pyspark.sql.functions as F "
   ]
  },
  {
   "cell_type": "code",
   "execution_count": 6,
   "id": "2e5e2c20-194d-4bb5-8ffc-32bc92a4784e",
   "metadata": {},
   "outputs": [],
   "source": [
    "spark = SparkSession.builder.getOrCreate()\n",
    "spark.sparkContext.setLogLevel(\"WARN\")"
   ]
  },
  {
   "cell_type": "code",
   "execution_count": 7,
   "id": "b568577e-a501-495c-a06f-b500074f4ffb",
   "metadata": {},
   "outputs": [
    {
     "name": "stdout",
     "output_type": "stream",
     "text": [
      "Check\n"
     ]
    }
   ],
   "source": [
    "print(\"Check\")"
   ]
  },
  {
   "cell_type": "code",
   "execution_count": 8,
   "id": "370e9ee4-4890-49b3-9668-9eb88bd79a67",
   "metadata": {},
   "outputs": [],
   "source": [
    "# Practice Join Tables with their Reference Tables"
   ]
  },
  {
   "cell_type": "code",
   "execution_count": null,
   "id": "405c1c5a-9414-498d-8516-874be1da269a",
   "metadata": {},
   "outputs": [],
   "source": [
    " "
   ]
  }
 ],
 "metadata": {
  "kernelspec": {
   "display_name": "Python 3 (ipykernel)",
   "language": "python",
   "name": "python3"
  },
  "language_info": {
   "codemirror_mode": {
    "name": "ipython",
    "version": 3
   },
   "file_extension": ".py",
   "mimetype": "text/x-python",
   "name": "python",
   "nbconvert_exporter": "python",
   "pygments_lexer": "ipython3",
   "version": "3.10.17"
  }
 },
 "nbformat": 4,
 "nbformat_minor": 5
}
